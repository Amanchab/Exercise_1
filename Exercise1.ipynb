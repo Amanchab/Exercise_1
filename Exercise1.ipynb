{
 "cells": [
  {
   "cell_type": "code",
   "execution_count": 40,
   "id": "ce1849c4",
   "metadata": {},
   "outputs": [
    {
     "name": "stdout",
     "output_type": "stream",
     "text": [
      "   Manager Employee Code  Compensation  Review 1  Engagement 1  \\\n",
      "0                    NaN         20000       NaN           NaN   \n",
      "1                    1.0         20000       9.0           4.0   \n",
      "2                    1.0         20000       9.0           4.0   \n",
      "\n",
      "  Date of Joining   End Date  \n",
      "0      2021-01-01 2100-01-01  \n",
      "1      2021-01-01 2100-01-01  \n",
      "2      2021-01-01 2100-01-01  \n"
     ]
    }
   ],
   "source": [
    "import pandas as pd\n",
    "\n",
    "# Read input data from CSV file\n",
    "input_file_path = 'input.csv'\n",
    "df = pd.read_csv(input_file_path)\n",
    "\n",
    "# Convert date columns to datetime format\n",
    "date_columns = ['Date of Joining', 'Date of Exit', 'Compensation 1 date', 'Compensation 2 date',\n",
    "                'Review 1 date', 'Review 2 date', 'Engagement 1 date', 'Engagement 2 date']\n",
    "df[date_columns] = df[date_columns].apply(pd.to_datetime, errors='coerce')\n",
    "\n",
    "# Sort DataFrame by employee and date\n",
    "df.sort_values(by=['Employee Code', 'Date of Joining'], inplace=True)\n",
    "\n",
    "# Create 'End Date' by shifting the 'Date of Joining'\n",
    "df['End Date'] = df.groupby('Employee Code')['Date of Joining'].shift(-1) - pd.Timedelta(days=1)\n",
    "\n",
    "# For the latest record, assign a far-future date\n",
    "df['End Date'].fillna(pd.to_datetime('2100-01-01'), inplace=True)\n",
    "\n",
    "# Forward-fill missing values within each employee group\n",
    "df = df.groupby('Employee Code').ffill()\n",
    "\n",
    "# Select relevant columns for the output\n",
    "output_columns = ['Manager Employee Code', 'Compensation', 'Review 1', 'Engagement 1', 'Date of Joining', 'End Date']\n",
    "output_df = df[output_columns]\n",
    "\n",
    "# Save the transformed data to a new CSV file\n",
    "#output_file_path = 'path/to/your/output/file.csv'\n",
    "#output_df.to_csv(output_file_path, index=False)\n",
    "\n",
    "# Display the resulting DataFrame\n",
    "print(output_df)"
   ]
  },
  {
   "cell_type": "code",
   "execution_count": null,
   "id": "ccaf778a",
   "metadata": {},
   "outputs": [],
   "source": []
  }
 ],
 "metadata": {
  "kernelspec": {
   "display_name": "Python 3 (ipykernel)",
   "language": "python",
   "name": "python3"
  },
  "language_info": {
   "codemirror_mode": {
    "name": "ipython",
    "version": 3
   },
   "file_extension": ".py",
   "mimetype": "text/x-python",
   "name": "python",
   "nbconvert_exporter": "python",
   "pygments_lexer": "ipython3",
   "version": "3.9.12"
  }
 },
 "nbformat": 4,
 "nbformat_minor": 5
}
